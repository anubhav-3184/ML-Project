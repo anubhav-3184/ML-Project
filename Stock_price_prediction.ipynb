{
 "cells": [
  {
   "cell_type": "code",
   "execution_count": 3,
   "id": "29816a84-1408-455e-bd15-9dc2b9a67345",
   "metadata": {},
   "outputs": [],
   "source": [
    "import pandas as pd\n",
    "import numpy as np\n",
    "from sklearn.feature_extraction.text import TfidfVectorizer\n",
    "from sklearn.linear_model import LogisticRegression\n",
    "from sklearn.metrics import accuracy_score, precision_score, recall_score, f1_score, roc_auc_score, classification_report, confusion_matrix\n",
    "from sklearn.model_selection import train_test_split\n",
    "import joblib"
   ]
  },
  {
   "cell_type": "code",
   "execution_count": 4,
   "id": "c90a0998-0181-4fbf-b69f-543937b569e4",
   "metadata": {},
   "outputs": [],
   "source": [
    "df = pd.read_csv(\"/Users/anubhavpawan/Downloads/Data.csv\", encoding='latin1')\n",
    "df['Date'] = pd.to_datetime(df['Date'], errors='coerce')\n",
    "df = df.sort_values('Date').reset_index(drop=True)"
   ]
  },
  {
   "cell_type": "code",
   "execution_count": 5,
   "id": "14ee039e-74ab-413d-bdca-455e5e636f9e",
   "metadata": {},
   "outputs": [],
   "source": [
    "# 2) Combine Top1..Top25 into a single 'news' field\n",
    "top_cols = [c for c in df.columns if c.lower().startswith('top')]\n",
    "df['news'] = df[top_cols].astype(str).apply(lambda row: ' '.join([str(x) for x in row.values if x and x!='nan']), axis=1)"
   ]
  },
  {
   "cell_type": "code",
   "execution_count": 6,
   "id": "8d33d3e8-001c-437c-a600-259b7c99c71d",
   "metadata": {},
   "outputs": [],
   "source": [
    "\n",
    "# 3) Train/test chronological split (80/20)\n",
    "split_idx = int(0.8 * len(df))\n",
    "train = df.iloc[:split_idx].copy()\n",
    "test = df.iloc[split_idx:].copy()\n",
    "\n",
    "X_train = train['news'].fillna('')\n",
    "y_train = train['Label'].astype(int)\n",
    "X_test = test['news'].fillna('')\n",
    "y_test = test['Label'].astype(int)"
   ]
  },
  {
   "cell_type": "code",
   "execution_count": 7,
   "id": "8a1e50ed-1a55-4fec-903c-8e47a2e7879d",
   "metadata": {},
   "outputs": [],
   "source": [
    "# 4) TF-IDF + Logistic Regression (fast baseline)\n",
    "tfidf = TfidfVectorizer(max_features=2000, ngram_range=(1,2), stop_words='english')\n",
    "Xtr = tfidf.fit_transform(X_train)\n",
    "Xte = tfidf.transform(X_test)\n",
    "\n",
    "lr = LogisticRegression(max_iter=1000, random_state=42)\n",
    "lr.fit(Xtr, y_train)\n",
    "pred = lr.predict(Xte)\n",
    "proba = lr.predict_proba(Xte)[:,1]"
   ]
  },
  {
   "cell_type": "code",
   "execution_count": 8,
   "id": "67078624-2632-420b-a06c-a656317824fb",
   "metadata": {},
   "outputs": [
    {
     "name": "stdout",
     "output_type": "stream",
     "text": [
      "Accuracy: 0.5225334957369062\n",
      "Precision: 0.5391156462585034\n",
      "Recall: 0.723744292237443\n",
      "F1: 0.6179337231968811\n",
      "ROC AUC: 0.4936931459160437\n",
      "\n",
      "Classification Report:\n",
      "               precision    recall  f1-score   support\n",
      "\n",
      "           0       0.48      0.29      0.36       383\n",
      "           1       0.54      0.72      0.62       438\n",
      "\n",
      "    accuracy                           0.52       821\n",
      "   macro avg       0.51      0.51      0.49       821\n",
      "weighted avg       0.51      0.52      0.50       821\n",
      "\n",
      "Confusion Matrix:\n",
      " [[112 271]\n",
      " [121 317]]\n"
     ]
    }
   ],
   "source": [
    "# 5) Metrics\n",
    "print(\"Accuracy:\", accuracy_score(y_test, pred))\n",
    "print(\"Precision:\", precision_score(y_test, pred))\n",
    "print(\"Recall:\", recall_score(y_test, pred))\n",
    "print(\"F1:\", f1_score(y_test, pred))\n",
    "print(\"ROC AUC:\", roc_auc_score(y_test, proba))\n",
    "print(\"\\nClassification Report:\\n\", classification_report(y_test, pred))\n",
    "print(\"Confusion Matrix:\\n\", confusion_matrix(y_test, pred))"
   ]
  },
  {
   "cell_type": "code",
   "execution_count": 9,
   "id": "45735878-379c-4fa5-bf53-0c29c6746c7c",
   "metadata": {},
   "outputs": [
    {
     "name": "stdout",
     "output_type": "stream",
     "text": [
      "Saved model to tfidf_lr_tuple.pkl\n"
     ]
    }
   ],
   "source": [
    "# 6) Save model for later use\n",
    "joblib.dump((tfidf, lr), \"tfidf_lr_tuple.pkl\")\n",
    "print(\"Saved model to tfidf_lr_tuple.pkl\")"
   ]
  },
  {
   "cell_type": "code",
   "execution_count": 10,
   "id": "620a133b-0938-47e6-8482-641231b48607",
   "metadata": {},
   "outputs": [],
   "source": [
    "\n",
    "# 7) OPTIONAL: If you have price history (DataFrame 'prices' with 'Date','Open','High','Low','Close','Volume'):\n",
    "#    you can compute technical indicators and merge with the news features before training.\n",
    "def compute_technical_indicators(prices):\n",
    "    p = prices.copy().sort_values('Date')\n",
    "    p['SMA_5'] = p['Close'].rolling(5).mean()\n",
    "    p['SMA_10'] = p['Close'].rolling(10).mean()\n",
    "    p['EMA_10'] = p['Close'].ewm(span=10, adjust=False).mean()\n",
    "    # simple RSI (14)\n",
    "    delta = p['Close'].diff()\n",
    "    up = delta.clip(lower=0)\n",
    "    down = -1 * delta.clip(upper=0)\n",
    "    roll_up = up.rolling(14).mean()\n",
    "    roll_down = down.rolling(14).mean()\n",
    "    rs = roll_up / (roll_down + 1e-8)\n",
    "    p['RSI_14'] = 100.0 - (100.0 / (1.0 + rs))\n",
    "    p = p.dropna().reset_index(drop=True)\n",
    "    return p"
   ]
  },
  {
   "cell_type": "code",
   "execution_count": 5,
   "id": "192014e4-7cf9-4b57-affa-cfd3d2bfbe2e",
   "metadata": {},
   "outputs": [
    {
     "name": "stdin",
     "output_type": "stream",
     "text": [
      "Enter a news headline:  A company went bankrupt\n"
     ]
    },
    {
     "name": "stdout",
     "output_type": "stream",
     "text": [
      "Dow & Jones likely to go UP\n"
     ]
    }
   ],
   "source": [
    "import joblib\n",
    "\n",
    "tfidf, lr = joblib.load(\"tfidf_lr_tuple.pkl\")\n",
    "\n",
    "# Ask user for a single news headline\n",
    "headline = input(\"Enter a news headline: \")\n",
    "\n",
    "# Transform and predict\n",
    "X_new = tfidf.transform([headline])\n",
    "pred = lr.predict(X_new)[0]\n",
    "\n",
    "# Show result in friendly form\n",
    "if pred == 1:\n",
    "    print(\"Dow & Jones likely to go UP\")\n",
    "else:\n",
    "    print(\"Dow & Jones likely to go DOWN\")"
   ]
  },
  {
   "cell_type": "code",
   "execution_count": null,
   "id": "a82537bc-fdff-4eae-abd1-9679947721c3",
   "metadata": {},
   "outputs": [],
   "source": []
  }
 ],
 "metadata": {
  "kernelspec": {
   "display_name": "Python 3 (ipykernel)",
   "language": "python",
   "name": "python3"
  },
  "language_info": {
   "codemirror_mode": {
    "name": "ipython",
    "version": 3
   },
   "file_extension": ".py",
   "mimetype": "text/x-python",
   "name": "python",
   "nbconvert_exporter": "python",
   "pygments_lexer": "ipython3",
   "version": "3.12.6"
  }
 },
 "nbformat": 4,
 "nbformat_minor": 5
}
